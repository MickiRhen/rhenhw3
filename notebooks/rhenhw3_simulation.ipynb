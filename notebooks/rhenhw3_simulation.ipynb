{
 "cells": [
  {
   "cell_type": "markdown",
   "metadata": {
    "Collapsed": "false"
   },
   "source": [
    "# Homework 3 - Option 1 - Simulation\n",
    "\n",
    "In this homework assignment I will use SimPy to do discrete event simulation.\n",
    "\n",
    "The scenario I have chosen is that of a border crossing where cars can must first stop at a booth to speak to a border control officer (primary inspection). \n",
    "\n",
    "Some percentage of cars will be asked to pull aside for a random (or not so random) secondary inspection. \n",
    "\n",
    "In our scenario all cars eventually make it through customs and move along on their merry way.\n",
    "\n",
    "This scenario is oversimplified for the sake of this excerise.  It assumes there is one queue of cars waiting to speak to a customs officer, and that all vehicles are addressed on a first come first serve basis.\n",
    "\n",
    "Warning this is a SUPER simplified scenario... the SimPy code is a lot to wrap one's head around! lol\n",
    "\n",
    "Ok, let's have some fun with SimPy!..."
   ]
  },
  {
   "cell_type": "markdown",
   "metadata": {
    "Collapsed": "false"
   },
   "source": [
    "## Preliminaries"
   ]
  },
  {
   "cell_type": "code",
   "execution_count": 167,
   "metadata": {
    "Collapsed": "false",
    "tags": []
   },
   "outputs": [
    {
     "name": "stdout",
     "output_type": "stream",
     "text": [
      "The autoreload extension is already loaded. To reload it, use:\n",
      "  %reload_ext autoreload\n"
     ]
    }
   ],
   "source": [
    "# To auto-reload modules in jupyter notebook (so that changes in files *.py doesn't require manual reloading):\n",
    "# https://stackoverflow.com/questions/5364050/reloading-submodules-in-ipython\n",
    "%load_ext autoreload\n",
    "%autoreload 2"
   ]
  },
  {
   "cell_type": "markdown",
   "metadata": {
    "Collapsed": "false"
   },
   "source": [
    "Import libraries likely needed for the task"
   ]
  },
  {
   "cell_type": "code",
   "execution_count": 168,
   "metadata": {
    "Collapsed": "false"
   },
   "outputs": [],
   "source": [
    "import math\n",
    "import numpy as np\n",
    "import pandas as pd\n",
    "from scipy import optimize\n",
    "import matplotlib.pyplot as plt\n",
    "import seaborn as sns\n",
    "from numpy.random import default_rng\n",
    "from IPython.display import Image\n",
    "import simpy\n"
   ]
  },
  {
   "cell_type": "markdown",
   "metadata": {
    "Collapsed": "false"
   },
   "source": [
    "## Using discrete event simulation to model traffic at a border crossing\n",
    "\n",
    "Ultimately, our goal in this module is to develop a DES model of a simple border crossing scenario consisting of the following process steps:\n",
    "\n",
    "```\n",
    "Arrival --> Primary Inspection --> Secondary Inspection (if needed) -->  Exit\n",
    "```\n",
    "\n",
    "Conceptually, our model has the following components:\n",
    "\n",
    "* The entities are vehicles.\n",
    "* Entities are created by some sort of arrival process.\n",
    "* Each stage of the process has some number of resources associated with it. These resources are the border control officers that man the Inspection stations.\n",
    "* Entities flow through different stages of the border crossing process, and at each stage, they:\n",
    "    - request one unit of the appropriate type of officer resource and wait if one is not available,\n",
    "    - after obtaining an officer resource they delay for some amount of time for the process (e.g. questioning, scanning documentation, declaring purchases) to be completed,\n",
    "    - when the processing time has elapsed, the resource is released and the vehicle may move on to a Secondary Inspection\n",
    "* When all stages are complete, the vehicle exits the system.\n",
    "\n",
    "Our model will handle:\n",
    "\n",
    "* uncertainty in the processing times of the individual steps above,\n",
    "* uncertainty in vehicle arrival times\n",
    "* finite numbers of different types of resources (officers)\n",
    "* ability to estimate key process metrics such as vehicle wait times and total time at the border crossing as well as resource utilization."
   ]
  },
  {
   "cell_type": "markdown",
   "metadata": {
    "Collapsed": "false"
   },
   "source": [
    "# The Model"
   ]
  },
  {
   "cell_type": "markdown",
   "metadata": {
    "tags": []
   },
   "source": [
    "## Model 1 - Vehicle arrival generator only\n",
    "\n",
    "We will start with a simple model that generates vehicle arrivals on a regular basis, then assume the vehicles exit the border crossing"
   ]
  },
  {
   "cell_type": "code",
   "execution_count": 169,
   "metadata": {},
   "outputs": [],
   "source": [
    "def vehicle_arrivals(env, interarrival_time=2.0):\n",
    "    \"\"\"Generate vehicles according to a fixed time arrival process\"\"\"\n",
    "\n",
    "    # Create a counter to keep track of number of vehicles generated and to serve as unique vehicle id\n",
    "    vehicle = 0\n",
    "\n",
    "    # Infinite loop for generating vehicles\n",
    "    while True:\n",
    "\n",
    "        # Generate next interarrival time (simple for now - this will be revised later)\n",
    "        iat = interarrival_time\n",
    "        \n",
    "        # This process will now yield to a 'timeout' event. This process will resume after iat time units.\n",
    "        yield env.timeout(iat)\n",
    "\n",
    "        # New vehicle generated = update counter of vehicles\n",
    "        vehicle += 1\n",
    "        \n",
    "        print(f\"Vehicle {vehicle} created at time {env.now}\")"
   ]
  },
  {
   "cell_type": "code",
   "execution_count": 170,
   "metadata": {},
   "outputs": [
    {
     "name": "stdout",
     "output_type": "stream",
     "text": [
      "Vehicle 1 created at time 2.0\n",
      "Vehicle 2 created at time 4.0\n",
      "Vehicle 3 created at time 6.0\n",
      "Vehicle 4 created at time 8.0\n",
      "Vehicle 5 created at time 10.0\n",
      "Vehicle 6 created at time 12.0\n",
      "Vehicle 7 created at time 14.0\n",
      "Vehicle 8 created at time 16.0\n",
      "Vehicle 9 created at time 18.0\n",
      "Vehicle 10 created at time 20.0\n",
      "Vehicle 11 created at time 22.0\n",
      "Vehicle 12 created at time 24.0\n"
     ]
    }
   ],
   "source": [
    "# Initialize a simulation environment\n",
    "env1 = simpy.Environment()\n",
    "\n",
    "# Create a process generator and start it and add it to the env\n",
    "# env.process() starts the vehicle_arrivals process and adds it to the environment\n",
    "runtime = 25\n",
    "interarrival_time = 2.0\n",
    "env1.process(vehicle_arrivals(env1, interarrival_time))\n",
    "\n",
    "# Run the simulation\n",
    "env1.run(until=runtime)"
   ]
  },
  {
   "cell_type": "markdown",
   "metadata": {},
   "source": [
    "Cars arriving on a regular schedule is very unrealistic, so we will start to improve our model by modeling vehicle arrivals by a *Poisson arrival process*\n",
    "\n",
    "First we need to import the default random number generator and create a random generator variable. I'll use 2616 as the seed. This generator generates numbers uniformly between 0 and 1, which can be used to generate random variates from whatever distribution we choose. "
   ]
  },
  {
   "cell_type": "code",
   "execution_count": 171,
   "metadata": {},
   "outputs": [
    {
     "name": "stdout",
     "output_type": "stream",
     "text": [
      "0.13682387149554032\n"
     ]
    }
   ],
   "source": [
    "from numpy.random import default_rng\n",
    "rg = default_rng(seed=2616)\n",
    "print(rg.random())"
   ]
  },
  {
   "cell_type": "markdown",
   "metadata": {},
   "source": [
    "Now we'll use our random number generator to overlay the exponential pdf (probability density function) on our histogram of generated exponential random variates."
   ]
  },
  {
   "cell_type": "code",
   "execution_count": 172,
   "metadata": {},
   "outputs": [
    {
     "data": {
      "image/png": "[encoded data removed]",
      "text/plain": [
       "<Figure size 432x288 with 1 Axes>"
      ]
     },
     "metadata": {
      "needs_background": "light"
     },
     "output_type": "display_data"
    }
   ],
   "source": [
    "# Import exponential distribution function from scipy.stats\n",
    "from scipy.stats import expon\n",
    "\n",
    "# Set mean of this distribution to whatever we were using above for interarrival time\n",
    "mean_interarrival_time = interarrival_time\n",
    "\n",
    "# Create a random variable object based on the exponential distribution with the given mean\n",
    "rv_expon = expon(scale=mean_interarrival_time)\n",
    "\n",
    "\n",
    "\n",
    "# Generate 1000 exponential random variates (Exponential function from numpy)\n",
    "iat_sample = rg.exponential(mean_interarrival_time, 1000)\n",
    "\n",
    "# Create a histogram of the random samples with exponential pdf overlaid\n",
    "plt.title(\"Interarrival time histogram\")\n",
    "plt.xlabel(\"Interarrival time\")\n",
    "plt.ylabel(\"Density\")\n",
    "plt.hist(iat_sample, density=True);\n",
    "\n",
    "# Create values for the x-axis using expon function from SciPy\n",
    "x_expon = np.linspace(rv_expon.ppf(0.0001),\n",
    "                rv_expon.ppf(0.999), 500)\n",
    "\n",
    "# Create values for the y-axis\n",
    "y_expon_pdf = rv_expon.pdf(x_expon)\n",
    "\n",
    "plt.plot(x_expon, y_expon_pdf,\n",
    "       'r-', lw=3, alpha=0.6, label='Exponential pdf');"
   ]
  },
  {
   "cell_type": "markdown",
   "metadata": {},
   "source": [
    "Now, we can modify our vehicle arrivals function to use Poisson arrivals instead of equally-spaced arrivals."
   ]
  },
  {
   "cell_type": "code",
   "execution_count": 173,
   "metadata": {},
   "outputs": [],
   "source": [
    "def vehicle_arrivals_random_1(env, mean_interarrival_time=2.0, rg=default_rng(0)):\n",
    "    \"\"\"Generate vehicles according to a Poisson arrival process\"\"\"\n",
    "\n",
    "    # Create a counter to keep track of the number of vehicles generated and to serve as unique vehicle id\n",
    "    vehicle = 0\n",
    "\n",
    "    # Infinite loop for generating vehicles\n",
    "    while True:\n",
    "\n",
    "        # Generate next interarrival time from exponential distribution\n",
    "        iat = rg.exponential(mean_interarrival_time)\n",
    "        \n",
    "        # This process will yield to a 'timeout' event. This process will resume after iat time units.\n",
    "        yield env.timeout(iat)\n",
    "\n",
    "        # Update counter of vehicles\n",
    "        vehicle += 1\n",
    "        \n",
    "        print(f\"Vehicle {vehicle} created at time {env.now}\")"
   ]
  },
  {
   "cell_type": "markdown",
   "metadata": {
    "tags": []
   },
   "source": [
    "We can run this new model with random arrivals..."
   ]
  },
  {
   "cell_type": "code",
   "execution_count": 174,
   "metadata": {},
   "outputs": [
    {
     "name": "stdout",
     "output_type": "stream",
     "text": [
      "Vehicle 1 created at time 1.3598638079378191\n",
      "Vehicle 2 created at time 3.3990580108695485\n",
      "Vehicle 3 created at time 3.4386713360476593\n",
      "Vehicle 4 created at time 3.4432099894101156\n",
      "Vehicle 5 created at time 4.543895734688212\n",
      "Vehicle 6 created at time 7.803776604004982\n",
      "Vehicle 7 created at time 9.150942509339446\n",
      "Vehicle 8 created at time 10.661545224990228\n",
      "Vehicle 9 created at time 16.295117183141677\n"
     ]
    }
   ],
   "source": [
    "# Initialize a new simulation environment\n",
    "env2 = simpy.Environment()\n",
    "\n",
    "# Create a process generator and start it and add it to the env\n",
    "# env.process() starts and adds it to env\n",
    "runtime = 25\n",
    "interarrival_time = 2.0\n",
    "env2.process(vehicle_arrivals_random_1(env2, interarrival_time))\n",
    "\n",
    "# Run the simulation\n",
    "env2.run(until=runtime)"
   ]
  },
  {
   "cell_type": "markdown",
   "metadata": {},
   "source": [
    "## Model 2: Simplified border crossing with one resource\n",
    "\n",
    "In this next step we will add the limited resource of a custom's officer.  We need to aquire and release this resource\n",
    "\n",
    "Our vehicles enter the system, yield until an officer is available, spend some time with the customs officer, prepare to leave (delay) and then exit customs"
   ]
  },
  {
   "cell_type": "code",
   "execution_count": 175,
   "metadata": {},
   "outputs": [],
   "source": [
    "def simplified_customs_process(env, name, mean_officer_time, mean_postofficer_time, officer):\n",
    "    \"\"\"Process function modeling how a vehicle flows through system.\"\"\"\n",
    "\n",
    "    print(f\"{name} entering border crossing at {env.now:.4f}\")\n",
    "    \n",
    "    # Request customs officer\n",
    "    with officer.request() as request:\n",
    "        print(f\"{name} requested customs officer at {env.now:.4f}\")\n",
    "        yield request\n",
    "        print(f\"{name} got officer at {env.now:.4f}\")\n",
    "        yield env.timeout(rg.normal(mean_officer_time, 0.4))\n",
    "                          \n",
    "    # Yield for the post-officer time - time to put documents away, buckle seat belts, and pull away\n",
    "    yield env.timeout(mean_postofficer_time)\n",
    "    \n",
    "    # The process is over, vehicle exits the border crossing\n",
    "    print(f\"{name} exiting border crossing at {env.now:.4f}\")"
   ]
  },
  {
   "cell_type": "markdown",
   "metadata": {},
   "source": [
    "We need to register the yield as a process..."
   ]
  },
  {
   "cell_type": "code",
   "execution_count": 176,
   "metadata": {},
   "outputs": [],
   "source": [
    "def vehicle_arrivals_random_2(env, mean_interarrival_time, mean_officer_time,\n",
    "                              mean_postofficer_time, officer, rg=default_rng(0)):\n",
    "    \"\"\"Generate vehicles according to a Poisson arrival process\"\"\"\n",
    "\n",
    "    # Create a counter to keep track of number of vehicles generated and to serve as unique vehicle id\n",
    "    vehicle = 0\n",
    "\n",
    "    # Infinite loop for generating vehicles\n",
    "    while True:\n",
    "\n",
    "        # Generate next interarrival time\n",
    "        iat = rg.exponential(mean_interarrival_time)\n",
    "        \n",
    "        # This process will yield to a 'timeout' event. This process will resume after iat time units.\n",
    "        yield env.timeout(iat)\n",
    "\n",
    "        # Update counter of vehicles\n",
    "        vehicle += 1\n",
    "\n",
    "        print(f\"Vehicle{vehicle} created at time {env.now}\")\n",
    "               \n",
    "        # Create and register the simplifed customs process        \n",
    "        # Create a new vehicle delay process generator object.\n",
    "        vehicle_visit = simplified_customs_process(env, 'Vehicle{}'.format(vehicle), \n",
    "                                                   mean_officer_time, mean_postofficer_time, officer)\n",
    "        \n",
    "        # Register the process with the simulation environment\n",
    "        env.process(vehicle_visit)        "
   ]
  },
  {
   "cell_type": "markdown",
   "metadata": {},
   "source": [
    "Create a new simulation environment and run our new model..."
   ]
  },
  {
   "cell_type": "code",
   "execution_count": 177,
   "metadata": {
    "tags": []
   },
   "outputs": [
    {
     "name": "stdout",
     "output_type": "stream",
     "text": [
      "Vehicle1 created at time 1.3598638079378191\n",
      "Vehicle1 entering border crossing at 1.3599\n",
      "Vehicle1 requested customs officer at 1.3599\n",
      "Vehicle1 got officer at 1.3599\n",
      "Vehicle2 created at time 3.3990580108695485\n",
      "Vehicle2 entering border crossing at 3.3991\n",
      "Vehicle2 requested customs officer at 3.3991\n",
      "Vehicle2 got officer at 3.3991\n",
      "Vehicle3 created at time 3.4386713360476593\n",
      "Vehicle3 entering border crossing at 3.4387\n",
      "Vehicle3 requested customs officer at 3.4387\n",
      "Vehicle4 created at time 3.4432099894101156\n",
      "Vehicle4 entering border crossing at 3.4432\n",
      "Vehicle4 requested customs officer at 3.4432\n",
      "Vehicle5 created at time 4.543895734688212\n",
      "Vehicle5 entering border crossing at 4.5439\n",
      "Vehicle5 requested customs officer at 4.5439\n",
      "Vehicle3 got officer at 6.8962\n",
      "Vehicle1 exiting border crossing at 7.6462\n",
      "Vehicle6 created at time 7.803776604004982\n",
      "Vehicle6 entering border crossing at 7.8038\n",
      "Vehicle6 requested customs officer at 7.8038\n",
      "Vehicle4 got officer at 8.7130\n",
      "Vehicle7 created at time 9.150942509339446\n",
      "Vehicle7 entering border crossing at 9.1509\n",
      "Vehicle7 requested customs officer at 9.1509\n",
      "Vehicle2 exiting border crossing at 9.4630\n",
      "Vehicle8 created at time 10.661545224990228\n",
      "Vehicle8 entering border crossing at 10.6615\n",
      "Vehicle8 requested customs officer at 10.6615\n",
      "Vehicle5 got officer at 11.7032\n",
      "Vehicle3 exiting border crossing at 12.4532\n",
      "Vehicle6 got officer at 13.6550\n",
      "Vehicle4 exiting border crossing at 14.4050\n",
      "Vehicle9 created at time 16.295117183141677\n",
      "Vehicle9 entering border crossing at 16.2951\n",
      "Vehicle9 requested customs officer at 16.2951\n",
      "Vehicle7 got officer at 16.9215\n",
      "Vehicle5 exiting border crossing at 17.6715\n",
      "Vehicle8 got officer at 18.0020\n",
      "Vehicle6 exiting border crossing at 18.7520\n",
      "Vehicle9 got officer at 21.7949\n",
      "Vehicle7 exiting border crossing at 22.5449\n",
      "Vehicle8 exiting border crossing at 23.6552\n",
      "Vehicle9 exiting border crossing at 27.3309\n",
      "Vehicle10 created at time 28.410623344026824\n",
      "Vehicle10 entering border crossing at 28.4106\n",
      "Vehicle10 requested customs officer at 28.4106\n",
      "Vehicle10 got officer at 28.4106\n",
      "Vehicle10 exiting border crossing at 33.8062\n",
      "Vehicle11 created at time 34.98347985981431\n",
      "Vehicle11 entering border crossing at 34.9835\n",
      "Vehicle11 requested customs officer at 34.9835\n",
      "Vehicle11 got officer at 34.9835\n",
      "Vehicle12 created at time 34.98605536048395\n",
      "Vehicle12 entering border crossing at 34.9861\n",
      "Vehicle12 requested customs officer at 34.9861\n",
      "Vehicle12 got officer at 34.9861\n",
      "Vehicle13 created at time 39.52424468901777\n",
      "Vehicle13 entering border crossing at 39.5242\n",
      "Vehicle13 requested customs officer at 39.5242\n",
      "Vehicle14 created at time 39.669240058857554\n",
      "Vehicle14 entering border crossing at 39.6692\n",
      "Vehicle14 requested customs officer at 39.6692\n",
      "Vehicle13 got officer at 39.8604\n",
      "Vehicle14 got officer at 40.2362\n",
      "Vehicle11 exiting border crossing at 40.6104\n",
      "Vehicle12 exiting border crossing at 40.9862\n",
      "Vehicle15 created at time 41.80804066319219\n",
      "Vehicle15 entering border crossing at 41.8080\n",
      "Vehicle15 requested customs officer at 41.8080\n",
      "Vehicle16 created at time 43.50590672228126\n",
      "Vehicle16 entering border crossing at 43.5059\n",
      "Vehicle16 requested customs officer at 43.5059\n",
      "Vehicle15 got officer at 44.7405\n",
      "Vehicle16 got officer at 45.1609\n",
      "Vehicle14 exiting border crossing at 45.4905\n",
      "Vehicle13 exiting border crossing at 45.9109\n",
      "Vehicle17 created at time 49.805724027758245\n",
      "Vehicle17 entering border crossing at 49.8057\n",
      "Vehicle17 requested customs officer at 49.8057\n",
      "Vehicle17 got officer at 49.9423\n"
     ]
    }
   ],
   "source": [
    "# Initialize a simulation environment\n",
    "env3 = simpy.Environment()\n",
    "\n",
    "# Set input values\n",
    "mean_interarrival_time = 2.0\n",
    "mean_officer_time = 5.0\n",
    "mean_postofficer_time = .75\n",
    "num_officers = 2\n",
    "\n",
    "# Create officer resource\n",
    "officer = simpy.Resource(env3, num_officers)\n",
    "\n",
    "# Register our new arrivals process\n",
    "env3.process(vehicle_arrivals_random_2(env3, mean_interarrival_time, mean_officer_time,\n",
    "                                       mean_postofficer_time, officer))\n",
    "\n",
    "# Run the simulation\n",
    "runtime = 50\n",
    "env3.run(until=runtime)"
   ]
  },
  {
   "cell_type": "markdown",
   "metadata": {},
   "source": [
    "Super happy that worked... there were some tense moments! lol"
   ]
  },
  {
   "cell_type": "markdown",
   "metadata": {
    "tags": []
   },
   "source": [
    "## Create a `BorderCrossing` class\n",
    "\n",
    "Time to start building some objects to stream line things.  As a reminder, this model assumes the following border crossing/customs process:\n",
    "\n",
    "```\n",
    "Arrival --> Primary Inspection --> Secondary Inspection (if needed) -->  Exit\n",
    "```\n",
    "\n",
    "I am going to start by hard coding some things.  I will circle back later to fine tune"
   ]
  },
  {
   "cell_type": "code",
   "execution_count": 178,
   "metadata": {},
   "outputs": [],
   "source": [
    "class BorderCrossing(object):\n",
    "    def __init__(self, env, num_officers, num_officers2, rg):\n",
    "        # Simulation environment\n",
    "        self.env = env\n",
    "        self.rg = rg\n",
    "        \n",
    "        # Create list to hold timestamps dictionaries (one per vehicle)\n",
    "        self.timestamps_list = []\n",
    "        # Create lists to hold occupancy tuples (time, occ)\n",
    "        self.insp1_occupancy_list = [(0.0, 0.0)]\n",
    "        self.insp2_occupancy_list = [(0.0, 0.0)]\n",
    "        \n",
    "        # Create resources\n",
    "        self.officer = simpy.Resource(env, num_officers)\n",
    "        self.officer2 = simpy.Resource(env, num_officers2)\n",
    "\n",
    "\n",
    "    # Create process methods - hard coding processing time distributions for now\n",
    "    # TODO - remove hard coding\n",
    "    # The vehicle argument is just a unique integer number\n",
    "\n",
    "    def primary_inspect(self, vehicle):\n",
    "        yield self.env.timeout(self.rg.normal(5.0, 1))\n",
    "        \n",
    "    def secondary_inspect(self, vehicle):\n",
    "        yield self.env.timeout(self.rg.normal(15, 2.5))\n",
    "    \n",
    "    def prepare_to_leave(self, vehicle):\n",
    "        yield self.env.timeout(self.rg.normal(0.75, .1))"
   ]
  },
  {
   "cell_type": "markdown",
   "metadata": {},
   "source": [
    "## Create a `go_thru_customs` function\n",
    "\n",
    "The `go_thru_customs` function will define the sequence of steps traversed by vehicles. It will also capture timestamps to make it easy to compute various system performance measures such as vehicle waiting times, queue sizes and resource utilization. The inputs to this function include:\n",
    "\n",
    "* the simulation environment\n",
    "* a vehicle id\n",
    "* the border crossing object (created from the `BorderCrossing` class)\n",
    "* the percentage of vehicles that typically get pulled aside for a secondary inspection\n",
    "* the random number generator"
   ]
  },
  {
   "cell_type": "code",
   "execution_count": 179,
   "metadata": {
    "tags": []
   },
   "outputs": [],
   "source": [
    "def go_thru_customs(env, vehicle, crossing, pct_2nd_inspect, rg):\n",
    "    # Vehicle arrives to crossing - note the arrival time\n",
    "    arrival_ts = env.now\n",
    "    \n",
    "\n",
    "    # Reminder for Micki...by using request() in a context manager, we'll automatically release the resource when done\n",
    "\n",
    "    # Request customs officer for primary inspection\n",
    "    with crossing.officer.request() as request:\n",
    "        yield request\n",
    "        got_officer_ts = env.now\n",
    "        # We got one! Update inspection 1 occupancy - increment by 1\n",
    "        prev_occ = crossing.insp1_occupancy_list[-1][1]\n",
    "        new_occ = (env.now, prev_occ + 1)\n",
    "        crossing.insp1_occupancy_list.append(new_occ)\n",
    "        yield env.process(crossing.primary_inspect(vehicle))\n",
    "        release_officer_ts = env.now\n",
    "        crossing.insp1_occupancy_list.append((env.now, crossing.insp1_occupancy_list[-1][1] - 1))\n",
    "\n",
    "\n",
    "    # Request officer for 2nd inspection if needed\n",
    "    if rg.random() < pct_2nd_inspect:\n",
    "        with crossing.officer2.request() as request:\n",
    "            yield request\n",
    "            got_officer2_ts = env.now\n",
    "            # Update inspection 2 occupancy - increment by 1\n",
    "            prev_occ2 = crossing.insp2_occupancy_list[-1][1]\n",
    "            new_occ2 = (env.now, prev_occ2 + 1)\n",
    "            crossing.insp2_occupancy_list.append(new_occ2)            \n",
    "            yield env.process(crossing.secondary_inspect(vehicle))\n",
    "            release_officer2_ts = env.now\n",
    "    else:\n",
    "        got_officer2_ts = pd.NA\n",
    "        release_officer2_ts = pd.NA\n",
    "        \n",
    "    exit_system_ts = env.now    \n",
    "    #print(f\"Vehicle {vehicle} exited at time {env.now}\")\n",
    "\n",
    "    # Create dictionary of timestamps\n",
    "    timestamps = {'vehicle_id': vehicle,\n",
    "                  'arrival_ts': arrival_ts,\n",
    "                  'got_officer_ts': got_officer_ts,\n",
    "                  'release_officer_ts': release_officer_ts,\n",
    "                  'got_officer2_ts': got_officer2_ts,\n",
    "                  'release_officer2_ts': release_officer2_ts,\n",
    "                  'exit_system_ts': exit_system_ts}\n",
    "    \n",
    "    crossing.timestamps_list.append(timestamps)"
   ]
  },
  {
   "cell_type": "markdown",
   "metadata": {},
   "source": [
    "## The `run_crossing` function\n",
    "\n",
    "Now we need an additional function to run everything...\n",
    "\n",
    "The inputs to this function include:\n",
    "\n",
    "* the simulation environment\n",
    "* the crossing object\n",
    "* the mean vehicle interarrival time\n",
    "* the percentage of vehicles that typically get pulled aside for a secondary inspection\n",
    "* the random number generator\n",
    "* stopping conditions for the simulation through either a stop time and a maximum number of vehicle arrivals\n",
    "\n",
    "This function contains a `yield` statement, it is a generator and will need to be registered with the simulation environment.  We will do this from a main calling program."
   ]
  },
  {
   "cell_type": "code",
   "execution_count": 180,
   "metadata": {},
   "outputs": [],
   "source": [
    "def run_crossing(env, crossing, mean_interarrival_time, pct_2nd_inspect, rg, \n",
    "               stoptime=simpy.core.Infinity, max_arrivals=simpy.core.Infinity):\n",
    "      \n",
    "    # Create a counter to keep track of number of vehicles generated and to serve as unique vehicle id\n",
    "    vehicle = 0\n",
    "\n",
    "    # Loop for generating vehicles\n",
    "    while env.now < stoptime and vehicle < max_arrivals:\n",
    "\n",
    "        # Generate next interarrival time \n",
    "        iat = rg.exponential(mean_interarrival_time)\n",
    "        \n",
    "        # This process will now yield to a 'timeout' event. This process will resume after iat time units.\n",
    "        yield env.timeout(iat)\n",
    "\n",
    "        # New vehicle generated = update counter of vehicles\n",
    "        vehicle += 1\n",
    "        \n",
    "        #print(f\"Vehicle {vehicle} created at time {env.now}\")\n",
    "\n",
    "        env.process(go_thru_customs(env, vehicle, crossing, pct_2nd_inspect, rg))"
   ]
  },
  {
   "cell_type": "markdown",
   "metadata": {},
   "source": [
    "Now we will create a `main` function that will serve as the entry point to using the simulation. This initial simulation runs for 480 time units"
   ]
  },
  {
   "cell_type": "code",
   "execution_count": 181,
   "metadata": {
    "tags": []
   },
   "outputs": [],
   "source": [
    "def main():\n",
    "    \n",
    "    # For now we are hard coding the vehicle arrival rate (vehicles per hour)\n",
    "    vehicles_per_hour = 30\n",
    "    mean_interarrival_time = 1.0 / (vehicles_per_hour / 60.0)\n",
    "    # Percent of cars that get pulled over for 2nd inspection...\n",
    "    pct_2nd_inspect = 0.10\n",
    "    \n",
    "    # Create a random number generator\n",
    "    rg = default_rng(seed=2616)\n",
    "    \n",
    "    # For now we are going to hard code in the resource capacity levels \n",
    "    num_officers = 3\n",
    "    num_officers2 = 2\n",
    "\n",
    "    # Hours of operation\n",
    "    stoptime = 480 # No more arrivals after this time\n",
    "    \n",
    "    # Create a simulation environment\n",
    "    env = simpy.Environment()\n",
    "    # Create a crossing to simulate\n",
    "    crossing = BorderCrossing(env, num_officers, num_officers2, rg)\n",
    "    \n",
    "    # Register the run_crossing (generator) function\n",
    "    env.process(run_crossing(env, crossing, mean_interarrival_time, pct_2nd_inspect, rg, stoptime=stoptime))\n",
    "    # Actually run the simulation\n",
    "    env.run()\n",
    "    \n",
    "    # The simulation is over now, create the output csv files from \n",
    "    # the dataframes created by running the simulation model.\n",
    "    \n",
    "    # Output log files \n",
    "    crossing_vehicle_log_df = pd.DataFrame(crossing.timestamps_list)\n",
    "    crossing_vehicle_log_df.to_csv('./output/crossing_vehicle_log_df.csv', index=False)\n",
    "    \n",
    "    insp1_occupancy_df = pd.DataFrame(crossing.insp1_occupancy_list, columns=['ts', 'occ'])\n",
    "    insp1_occupancy_df.to_csv('./output/insp1_occupancy_df.csv', index=False)\n",
    "    \n",
    "    insp2_occupancy_df = pd.DataFrame(crossing.insp2_occupancy_list, columns=['ts', 'occ'])\n",
    "    insp2_occupancy_df.to_csv('./output/insp2_occupancy_df.csv', index=False)\n",
    "    \n",
    " \n",
    "    # Note simulation end time\n",
    "    end_time = env.now\n",
    "    print(f\"Simulation ended at time {end_time}\")\n",
    "    return (end_time)"
   ]
  },
  {
   "cell_type": "markdown",
   "metadata": {},
   "source": [
    "Crossing my fingers, it's time to run it.\n",
    "\n",
    "Jupyter Lab needs emoji's to express the terror I feel lol"
   ]
  },
  {
   "cell_type": "code",
   "execution_count": 182,
   "metadata": {
    "tags": []
   },
   "outputs": [
    {
     "name": "stdout",
     "output_type": "stream",
     "text": [
      "Simulation ended at time 491.7046056613867\n"
     ]
    }
   ],
   "source": [
    "crossing_end_time = main()"
   ]
  },
  {
   "cell_type": "markdown",
   "metadata": {},
   "source": [
    "Well... not surprisingly, it did not work at first.  There were some tense moments... However, I finally noticed an important cell was marked as markdown and not active (I won't make that mistake again!), and performed some careful tweaking it looks like it ran!  Woo hoo!"
   ]
  },
  {
   "cell_type": "markdown",
   "metadata": {},
   "source": [
    "## Post-processing the timestamps file\n",
    "\n",
    "With any luck, this simulation model captured numerous timestamps for each vehicle as they went through the border crossing process. The timestamps were written to a log file with one row per vehicle. Now we can compute various wait times and service times for each vehicle and summarize them for the border crossing."
   ]
  },
  {
   "cell_type": "code",
   "execution_count": 183,
   "metadata": {
    "tags": []
   },
   "outputs": [
    {
     "name": "stdout",
     "output_type": "stream",
     "text": [
      "<class 'pandas.core.frame.DataFrame'>\n",
      "RangeIndex: 263 entries, 0 to 262\n",
      "Data columns (total 7 columns):\n",
      " #   Column               Non-Null Count  Dtype  \n",
      "---  ------               --------------  -----  \n",
      " 0   vehicle_id           263 non-null    int64  \n",
      " 1   arrival_ts           263 non-null    float64\n",
      " 2   got_officer_ts       263 non-null    float64\n",
      " 3   release_officer_ts   263 non-null    float64\n",
      " 4   got_officer2_ts      24 non-null     float64\n",
      " 5   release_officer2_ts  24 non-null     float64\n",
      " 6   exit_system_ts       263 non-null    float64\n",
      "dtypes: float64(6), int64(1)\n",
      "memory usage: 14.5 KB\n"
     ]
    }
   ],
   "source": [
    "crossing_vehicle_log_df = pd.read_csv('./output/crossing_vehicle_log_df.csv')\n",
    "crossing_vehicle_log_df.info()"
   ]
  },
  {
   "cell_type": "code",
   "execution_count": 184,
   "metadata": {},
   "outputs": [
    {
     "data": {
      "text/html": [
       "<div>\n",
       "<style scoped>\n",
       "    .dataframe tbody tr th:only-of-type {\n",
       "        vertical-align: middle;\n",
       "    }\n",
       "\n",
       "    .dataframe tbody tr th {\n",
       "        vertical-align: top;\n",
       "    }\n",
       "\n",
       "    .dataframe thead th {\n",
       "        text-align: right;\n",
       "    }\n",
       "</style>\n",
       "<table border=\"1\" class=\"dataframe\">\n",
       "  <thead>\n",
       "    <tr style=\"text-align: right;\">\n",
       "      <th></th>\n",
       "      <th>vehicle_id</th>\n",
       "      <th>arrival_ts</th>\n",
       "      <th>got_officer_ts</th>\n",
       "      <th>release_officer_ts</th>\n",
       "      <th>got_officer2_ts</th>\n",
       "      <th>release_officer2_ts</th>\n",
       "      <th>exit_system_ts</th>\n",
       "    </tr>\n",
       "  </thead>\n",
       "  <tbody>\n",
       "    <tr>\n",
       "      <th>0</th>\n",
       "      <td>1</td>\n",
       "      <td>0.345456</td>\n",
       "      <td>0.345456</td>\n",
       "      <td>5.873448</td>\n",
       "      <td>NaN</td>\n",
       "      <td>NaN</td>\n",
       "      <td>5.873448</td>\n",
       "    </tr>\n",
       "    <tr>\n",
       "      <th>1</th>\n",
       "      <td>2</td>\n",
       "      <td>2.557598</td>\n",
       "      <td>2.557598</td>\n",
       "      <td>7.061028</td>\n",
       "      <td>NaN</td>\n",
       "      <td>NaN</td>\n",
       "      <td>7.061028</td>\n",
       "    </tr>\n",
       "    <tr>\n",
       "      <th>2</th>\n",
       "      <td>3</td>\n",
       "      <td>4.037005</td>\n",
       "      <td>4.037005</td>\n",
       "      <td>9.765394</td>\n",
       "      <td>NaN</td>\n",
       "      <td>NaN</td>\n",
       "      <td>9.765394</td>\n",
       "    </tr>\n",
       "    <tr>\n",
       "      <th>3</th>\n",
       "      <td>7</td>\n",
       "      <td>9.080142</td>\n",
       "      <td>9.765394</td>\n",
       "      <td>13.541706</td>\n",
       "      <td>NaN</td>\n",
       "      <td>NaN</td>\n",
       "      <td>13.541706</td>\n",
       "    </tr>\n",
       "    <tr>\n",
       "      <th>4</th>\n",
       "      <td>5</td>\n",
       "      <td>7.213826</td>\n",
       "      <td>7.213826</td>\n",
       "      <td>13.624230</td>\n",
       "      <td>NaN</td>\n",
       "      <td>NaN</td>\n",
       "      <td>13.624230</td>\n",
       "    </tr>\n",
       "  </tbody>\n",
       "</table>\n",
       "</div>"
      ],
      "text/plain": [
       "   vehicle_id  arrival_ts  got_officer_ts  release_officer_ts  \\\n",
       "0           1    0.345456        0.345456            5.873448   \n",
       "1           2    2.557598        2.557598            7.061028   \n",
       "2           3    4.037005        4.037005            9.765394   \n",
       "3           7    9.080142        9.765394           13.541706   \n",
       "4           5    7.213826        7.213826           13.624230   \n",
       "\n",
       "   got_officer2_ts  release_officer2_ts  exit_system_ts  \n",
       "0              NaN                  NaN        5.873448  \n",
       "1              NaN                  NaN        7.061028  \n",
       "2              NaN                  NaN        9.765394  \n",
       "3              NaN                  NaN       13.541706  \n",
       "4              NaN                  NaN       13.624230  "
      ]
     },
     "execution_count": 184,
     "metadata": {},
     "output_type": "execute_result"
    }
   ],
   "source": [
    "crossing_vehicle_log_df.head()"
   ]
  },
  {
   "cell_type": "markdown",
   "metadata": {},
   "source": [
    "At first glance it looks like there is very little waiting for our lucky vehicle passengers. \n",
    "\n",
    "We can know for sure by computing any duration of interest as the difference between two timestamps. For example, the total time in the system is just the `exit_system_ts` minus the `arrival_ts`.\n",
    "\n",
    "The following creates a function to calculate those wait times..."
   ]
  },
  {
   "cell_type": "code",
   "execution_count": 185,
   "metadata": {},
   "outputs": [],
   "source": [
    "def compute_durations(timestamp_df):\n",
    "    \n",
    "    timestamp_df['wait_for_1st_inspect'] = timestamp_df.loc[:, 'got_officer_ts'] - timestamp_df.loc[:, 'arrival_ts']\n",
    "    timestamp_df['1st_inspect_time'] = timestamp_df.loc[:, 'release_officer_ts'] - timestamp_df.loc[:, 'got_officer_ts']\n",
    "    timestamp_df['wait_for_2nd_inspect'] = timestamp_df.loc[:, 'got_officer2_ts'] - timestamp_df.loc[:, 'release_officer2_ts']\n",
    "    timestamp_df['2nd_inspect_time'] = timestamp_df.loc[:, 'release_officer2_ts'] - timestamp_df.loc[:, 'got_officer2_ts']    \n",
    "    timestamp_df['time_at_border'] = timestamp_df.loc[:, 'exit_system_ts'] - timestamp_df.loc[:, 'arrival_ts']\n",
    "    \n",
    "    return timestamp_df"
   ]
  },
  {
   "cell_type": "code",
   "execution_count": 186,
   "metadata": {
    "tags": []
   },
   "outputs": [
    {
     "data": {
      "text/html": [
       "<div>\n",
       "<style scoped>\n",
       "    .dataframe tbody tr th:only-of-type {\n",
       "        vertical-align: middle;\n",
       "    }\n",
       "\n",
       "    .dataframe tbody tr th {\n",
       "        vertical-align: top;\n",
       "    }\n",
       "\n",
       "    .dataframe thead th {\n",
       "        text-align: right;\n",
       "    }\n",
       "</style>\n",
       "<table border=\"1\" class=\"dataframe\">\n",
       "  <thead>\n",
       "    <tr style=\"text-align: right;\">\n",
       "      <th></th>\n",
       "      <th>vehicle_id</th>\n",
       "      <th>arrival_ts</th>\n",
       "      <th>got_officer_ts</th>\n",
       "      <th>release_officer_ts</th>\n",
       "      <th>got_officer2_ts</th>\n",
       "      <th>release_officer2_ts</th>\n",
       "      <th>exit_system_ts</th>\n",
       "      <th>wait_for_1st_inspect</th>\n",
       "      <th>1st_inspect_time</th>\n",
       "      <th>wait_for_2nd_inspect</th>\n",
       "      <th>2nd_inspect_time</th>\n",
       "      <th>time_at_border</th>\n",
       "    </tr>\n",
       "  </thead>\n",
       "  <tbody>\n",
       "    <tr>\n",
       "      <th>0</th>\n",
       "      <td>1</td>\n",
       "      <td>0.345456</td>\n",
       "      <td>0.345456</td>\n",
       "      <td>5.873448</td>\n",
       "      <td>NaN</td>\n",
       "      <td>NaN</td>\n",
       "      <td>5.873448</td>\n",
       "      <td>0.000000</td>\n",
       "      <td>5.527992</td>\n",
       "      <td>NaN</td>\n",
       "      <td>NaN</td>\n",
       "      <td>5.527992</td>\n",
       "    </tr>\n",
       "    <tr>\n",
       "      <th>1</th>\n",
       "      <td>2</td>\n",
       "      <td>2.557598</td>\n",
       "      <td>2.557598</td>\n",
       "      <td>7.061028</td>\n",
       "      <td>NaN</td>\n",
       "      <td>NaN</td>\n",
       "      <td>7.061028</td>\n",
       "      <td>0.000000</td>\n",
       "      <td>4.503431</td>\n",
       "      <td>NaN</td>\n",
       "      <td>NaN</td>\n",
       "      <td>4.503431</td>\n",
       "    </tr>\n",
       "    <tr>\n",
       "      <th>2</th>\n",
       "      <td>3</td>\n",
       "      <td>4.037005</td>\n",
       "      <td>4.037005</td>\n",
       "      <td>9.765394</td>\n",
       "      <td>NaN</td>\n",
       "      <td>NaN</td>\n",
       "      <td>9.765394</td>\n",
       "      <td>0.000000</td>\n",
       "      <td>5.728389</td>\n",
       "      <td>NaN</td>\n",
       "      <td>NaN</td>\n",
       "      <td>5.728389</td>\n",
       "    </tr>\n",
       "    <tr>\n",
       "      <th>3</th>\n",
       "      <td>7</td>\n",
       "      <td>9.080142</td>\n",
       "      <td>9.765394</td>\n",
       "      <td>13.541706</td>\n",
       "      <td>NaN</td>\n",
       "      <td>NaN</td>\n",
       "      <td>13.541706</td>\n",
       "      <td>0.685252</td>\n",
       "      <td>3.776311</td>\n",
       "      <td>NaN</td>\n",
       "      <td>NaN</td>\n",
       "      <td>4.461563</td>\n",
       "    </tr>\n",
       "    <tr>\n",
       "      <th>4</th>\n",
       "      <td>5</td>\n",
       "      <td>7.213826</td>\n",
       "      <td>7.213826</td>\n",
       "      <td>13.624230</td>\n",
       "      <td>NaN</td>\n",
       "      <td>NaN</td>\n",
       "      <td>13.624230</td>\n",
       "      <td>0.000000</td>\n",
       "      <td>6.410404</td>\n",
       "      <td>NaN</td>\n",
       "      <td>NaN</td>\n",
       "      <td>6.410404</td>\n",
       "    </tr>\n",
       "    <tr>\n",
       "      <th>...</th>\n",
       "      <td>...</td>\n",
       "      <td>...</td>\n",
       "      <td>...</td>\n",
       "      <td>...</td>\n",
       "      <td>...</td>\n",
       "      <td>...</td>\n",
       "      <td>...</td>\n",
       "      <td>...</td>\n",
       "      <td>...</td>\n",
       "      <td>...</td>\n",
       "      <td>...</td>\n",
       "      <td>...</td>\n",
       "    </tr>\n",
       "    <tr>\n",
       "      <th>258</th>\n",
       "      <td>260</td>\n",
       "      <td>477.784768</td>\n",
       "      <td>479.683176</td>\n",
       "      <td>485.976654</td>\n",
       "      <td>NaN</td>\n",
       "      <td>NaN</td>\n",
       "      <td>485.976654</td>\n",
       "      <td>1.898409</td>\n",
       "      <td>6.293478</td>\n",
       "      <td>NaN</td>\n",
       "      <td>NaN</td>\n",
       "      <td>8.191887</td>\n",
       "    </tr>\n",
       "    <tr>\n",
       "      <th>259</th>\n",
       "      <td>261</td>\n",
       "      <td>478.448179</td>\n",
       "      <td>482.061419</td>\n",
       "      <td>487.613794</td>\n",
       "      <td>NaN</td>\n",
       "      <td>NaN</td>\n",
       "      <td>487.613794</td>\n",
       "      <td>3.613240</td>\n",
       "      <td>5.552375</td>\n",
       "      <td>NaN</td>\n",
       "      <td>NaN</td>\n",
       "      <td>9.165615</td>\n",
       "    </tr>\n",
       "    <tr>\n",
       "      <th>260</th>\n",
       "      <td>262</td>\n",
       "      <td>479.068334</td>\n",
       "      <td>483.966841</td>\n",
       "      <td>489.515134</td>\n",
       "      <td>NaN</td>\n",
       "      <td>NaN</td>\n",
       "      <td>489.515134</td>\n",
       "      <td>4.898508</td>\n",
       "      <td>5.548293</td>\n",
       "      <td>NaN</td>\n",
       "      <td>NaN</td>\n",
       "      <td>10.446800</td>\n",
       "    </tr>\n",
       "    <tr>\n",
       "      <th>261</th>\n",
       "      <td>256</td>\n",
       "      <td>470.555415</td>\n",
       "      <td>473.906553</td>\n",
       "      <td>479.683176</td>\n",
       "      <td>479.683176</td>\n",
       "      <td>490.907206</td>\n",
       "      <td>490.907206</td>\n",
       "      <td>3.351137</td>\n",
       "      <td>5.776624</td>\n",
       "      <td>-11.22403</td>\n",
       "      <td>11.22403</td>\n",
       "      <td>20.351791</td>\n",
       "    </tr>\n",
       "    <tr>\n",
       "      <th>262</th>\n",
       "      <td>263</td>\n",
       "      <td>486.994234</td>\n",
       "      <td>486.994234</td>\n",
       "      <td>491.704606</td>\n",
       "      <td>NaN</td>\n",
       "      <td>NaN</td>\n",
       "      <td>491.704606</td>\n",
       "      <td>0.000000</td>\n",
       "      <td>4.710371</td>\n",
       "      <td>NaN</td>\n",
       "      <td>NaN</td>\n",
       "      <td>4.710371</td>\n",
       "    </tr>\n",
       "  </tbody>\n",
       "</table>\n",
       "<p>263 rows × 12 columns</p>\n",
       "</div>"
      ],
      "text/plain": [
       "     vehicle_id  arrival_ts  got_officer_ts  release_officer_ts  \\\n",
       "0             1    0.345456        0.345456            5.873448   \n",
       "1             2    2.557598        2.557598            7.061028   \n",
       "2             3    4.037005        4.037005            9.765394   \n",
       "3             7    9.080142        9.765394           13.541706   \n",
       "4             5    7.213826        7.213826           13.624230   \n",
       "..          ...         ...             ...                 ...   \n",
       "258         260  477.784768      479.683176          485.976654   \n",
       "259         261  478.448179      482.061419          487.613794   \n",
       "260         262  479.068334      483.966841          489.515134   \n",
       "261         256  470.555415      473.906553          479.683176   \n",
       "262         263  486.994234      486.994234          491.704606   \n",
       "\n",
       "     got_officer2_ts  release_officer2_ts  exit_system_ts  \\\n",
       "0                NaN                  NaN        5.873448   \n",
       "1                NaN                  NaN        7.061028   \n",
       "2                NaN                  NaN        9.765394   \n",
       "3                NaN                  NaN       13.541706   \n",
       "4                NaN                  NaN       13.624230   \n",
       "..               ...                  ...             ...   \n",
       "258              NaN                  NaN      485.976654   \n",
       "259              NaN                  NaN      487.613794   \n",
       "260              NaN                  NaN      489.515134   \n",
       "261       479.683176           490.907206      490.907206   \n",
       "262              NaN                  NaN      491.704606   \n",
       "\n",
       "     wait_for_1st_inspect  1st_inspect_time  wait_for_2nd_inspect  \\\n",
       "0                0.000000          5.527992                   NaN   \n",
       "1                0.000000          4.503431                   NaN   \n",
       "2                0.000000          5.728389                   NaN   \n",
       "3                0.685252          3.776311                   NaN   \n",
       "4                0.000000          6.410404                   NaN   \n",
       "..                    ...               ...                   ...   \n",
       "258              1.898409          6.293478                   NaN   \n",
       "259              3.613240          5.552375                   NaN   \n",
       "260              4.898508          5.548293                   NaN   \n",
       "261              3.351137          5.776624             -11.22403   \n",
       "262              0.000000          4.710371                   NaN   \n",
       "\n",
       "     2nd_inspect_time  time_at_border  \n",
       "0                 NaN        5.527992  \n",
       "1                 NaN        4.503431  \n",
       "2                 NaN        5.728389  \n",
       "3                 NaN        4.461563  \n",
       "4                 NaN        6.410404  \n",
       "..                ...             ...  \n",
       "258               NaN        8.191887  \n",
       "259               NaN        9.165615  \n",
       "260               NaN       10.446800  \n",
       "261          11.22403       20.351791  \n",
       "262               NaN        4.710371  \n",
       "\n",
       "[263 rows x 12 columns]"
      ]
     },
     "execution_count": 186,
     "metadata": {},
     "output_type": "execute_result"
    }
   ],
   "source": [
    "crossing_vehicle_log_df = compute_durations(crossing_vehicle_log_df)\n",
    "crossing_vehicle_log_df"
   ]
  },
  {
   "cell_type": "markdown",
   "metadata": {},
   "source": [
    "### Histgram of total time in system"
   ]
  },
  {
   "cell_type": "code",
   "execution_count": 187,
   "metadata": {
    "tags": []
   },
   "outputs": [
    {
     "data": {
      "image/png": "[encoded data removed]",
      "text/plain": [
       "<Figure size 432x288 with 1 Axes>"
      ]
     },
     "metadata": {
      "needs_background": "light"
     },
     "output_type": "display_data"
    }
   ],
   "source": [
    "plt.hist(crossing_vehicle_log_df['time_at_border']);"
   ]
  },
  {
   "cell_type": "markdown",
   "metadata": {},
   "source": [
    "### Key summary stats"
   ]
  },
  {
   "cell_type": "code",
   "execution_count": 188,
   "metadata": {},
   "outputs": [
    {
     "data": {
      "text/html": [
       "<div>\n",
       "<style scoped>\n",
       "    .dataframe tbody tr th:only-of-type {\n",
       "        vertical-align: middle;\n",
       "    }\n",
       "\n",
       "    .dataframe tbody tr th {\n",
       "        vertical-align: top;\n",
       "    }\n",
       "\n",
       "    .dataframe thead th {\n",
       "        text-align: right;\n",
       "    }\n",
       "</style>\n",
       "<table border=\"1\" class=\"dataframe\">\n",
       "  <thead>\n",
       "    <tr style=\"text-align: right;\">\n",
       "      <th></th>\n",
       "      <th>wait_for_1st_inspect</th>\n",
       "      <th>wait_for_2nd_inspect</th>\n",
       "      <th>time_at_border</th>\n",
       "    </tr>\n",
       "  </thead>\n",
       "  <tbody>\n",
       "    <tr>\n",
       "      <th>count</th>\n",
       "      <td>263.000000</td>\n",
       "      <td>24.000000</td>\n",
       "      <td>263.000000</td>\n",
       "    </tr>\n",
       "    <tr>\n",
       "      <th>mean</th>\n",
       "      <td>2.837341</td>\n",
       "      <td>-15.008626</td>\n",
       "      <td>9.305474</td>\n",
       "    </tr>\n",
       "    <tr>\n",
       "      <th>std</th>\n",
       "      <td>2.453165</td>\n",
       "      <td>2.899089</td>\n",
       "      <td>5.457844</td>\n",
       "    </tr>\n",
       "    <tr>\n",
       "      <th>min</th>\n",
       "      <td>0.000000</td>\n",
       "      <td>-19.154517</td>\n",
       "      <td>2.431004</td>\n",
       "    </tr>\n",
       "    <tr>\n",
       "      <th>25%</th>\n",
       "      <td>0.731171</td>\n",
       "      <td>-17.829654</td>\n",
       "      <td>5.837475</td>\n",
       "    </tr>\n",
       "    <tr>\n",
       "      <th>50%</th>\n",
       "      <td>2.292628</td>\n",
       "      <td>-14.894877</td>\n",
       "      <td>7.803660</td>\n",
       "    </tr>\n",
       "    <tr>\n",
       "      <th>75%</th>\n",
       "      <td>4.408437</td>\n",
       "      <td>-13.151299</td>\n",
       "      <td>10.345051</td>\n",
       "    </tr>\n",
       "    <tr>\n",
       "      <th>max</th>\n",
       "      <td>10.485725</td>\n",
       "      <td>-8.534545</td>\n",
       "      <td>33.600668</td>\n",
       "    </tr>\n",
       "  </tbody>\n",
       "</table>\n",
       "</div>"
      ],
      "text/plain": [
       "       wait_for_1st_inspect  wait_for_2nd_inspect  time_at_border\n",
       "count            263.000000             24.000000      263.000000\n",
       "mean               2.837341            -15.008626        9.305474\n",
       "std                2.453165              2.899089        5.457844\n",
       "min                0.000000            -19.154517        2.431004\n",
       "25%                0.731171            -17.829654        5.837475\n",
       "50%                2.292628            -14.894877        7.803660\n",
       "75%                4.408437            -13.151299       10.345051\n",
       "max               10.485725             -8.534545       33.600668"
      ]
     },
     "execution_count": 188,
     "metadata": {},
     "output_type": "execute_result"
    }
   ],
   "source": [
    "crossing_vehicle_log_df.loc[:, ['wait_for_1st_inspect', 'wait_for_2nd_inspect', 'time_at_border']].describe()"
   ]
  },
  {
   "cell_type": "markdown",
   "metadata": {
    "tags": []
   },
   "source": [
    "So we are overstaffed, underestimating vehicles, or... it's COVID times at my border crossing lol"
   ]
  },
  {
   "cell_type": "markdown",
   "metadata": {},
   "source": [
    "### Occupancy statistics"
   ]
  },
  {
   "cell_type": "code",
   "execution_count": 189,
   "metadata": {},
   "outputs": [
    {
     "name": "stdout",
     "output_type": "stream",
     "text": [
      "<class 'pandas.core.frame.DataFrame'>\n",
      "RangeIndex: 527 entries, 0 to 526\n",
      "Data columns (total 2 columns):\n",
      " #   Column  Non-Null Count  Dtype  \n",
      "---  ------  --------------  -----  \n",
      " 0   ts      527 non-null    float64\n",
      " 1   occ     527 non-null    float64\n",
      "dtypes: float64(2)\n",
      "memory usage: 8.4 KB\n"
     ]
    }
   ],
   "source": [
    "insp1_occupancy_df = pd.read_csv('./output/insp1_occupancy_df.csv')\n",
    "insp2_occupancy_df = pd.read_csv('./output/insp2_occupancy_df.csv')\n",
    "\n",
    "insp1_occupancy_df.info()"
   ]
  },
  {
   "cell_type": "code",
   "execution_count": 191,
   "metadata": {
    "collapsed": true,
    "jupyter": {
     "outputs_hidden": true
    },
    "tags": []
   },
   "outputs": [
    {
     "data": {
      "text/html": [
       "<div>\n",
       "<style scoped>\n",
       "    .dataframe tbody tr th:only-of-type {\n",
       "        vertical-align: middle;\n",
       "    }\n",
       "\n",
       "    .dataframe tbody tr th {\n",
       "        vertical-align: top;\n",
       "    }\n",
       "\n",
       "    .dataframe thead th {\n",
       "        text-align: right;\n",
       "    }\n",
       "</style>\n",
       "<table border=\"1\" class=\"dataframe\">\n",
       "  <thead>\n",
       "    <tr style=\"text-align: right;\">\n",
       "      <th></th>\n",
       "      <th>ts</th>\n",
       "      <th>occ</th>\n",
       "    </tr>\n",
       "  </thead>\n",
       "  <tbody>\n",
       "    <tr>\n",
       "      <th>250</th>\n",
       "      <td>235.581010</td>\n",
       "      <td>2.0</td>\n",
       "    </tr>\n",
       "    <tr>\n",
       "      <th>251</th>\n",
       "      <td>235.581010</td>\n",
       "      <td>3.0</td>\n",
       "    </tr>\n",
       "    <tr>\n",
       "      <th>252</th>\n",
       "      <td>236.910991</td>\n",
       "      <td>2.0</td>\n",
       "    </tr>\n",
       "    <tr>\n",
       "      <th>253</th>\n",
       "      <td>236.910991</td>\n",
       "      <td>3.0</td>\n",
       "    </tr>\n",
       "    <tr>\n",
       "      <th>254</th>\n",
       "      <td>239.495481</td>\n",
       "      <td>2.0</td>\n",
       "    </tr>\n",
       "    <tr>\n",
       "      <th>255</th>\n",
       "      <td>239.495481</td>\n",
       "      <td>3.0</td>\n",
       "    </tr>\n",
       "    <tr>\n",
       "      <th>256</th>\n",
       "      <td>240.558372</td>\n",
       "      <td>2.0</td>\n",
       "    </tr>\n",
       "    <tr>\n",
       "      <th>257</th>\n",
       "      <td>240.558372</td>\n",
       "      <td>3.0</td>\n",
       "    </tr>\n",
       "    <tr>\n",
       "      <th>258</th>\n",
       "      <td>242.001736</td>\n",
       "      <td>2.0</td>\n",
       "    </tr>\n",
       "    <tr>\n",
       "      <th>259</th>\n",
       "      <td>242.001736</td>\n",
       "      <td>3.0</td>\n",
       "    </tr>\n",
       "    <tr>\n",
       "      <th>260</th>\n",
       "      <td>244.949651</td>\n",
       "      <td>2.0</td>\n",
       "    </tr>\n",
       "    <tr>\n",
       "      <th>261</th>\n",
       "      <td>244.949651</td>\n",
       "      <td>3.0</td>\n",
       "    </tr>\n",
       "    <tr>\n",
       "      <th>262</th>\n",
       "      <td>245.263992</td>\n",
       "      <td>2.0</td>\n",
       "    </tr>\n",
       "    <tr>\n",
       "      <th>263</th>\n",
       "      <td>245.263992</td>\n",
       "      <td>3.0</td>\n",
       "    </tr>\n",
       "    <tr>\n",
       "      <th>264</th>\n",
       "      <td>246.539061</td>\n",
       "      <td>2.0</td>\n",
       "    </tr>\n",
       "    <tr>\n",
       "      <th>265</th>\n",
       "      <td>246.539061</td>\n",
       "      <td>3.0</td>\n",
       "    </tr>\n",
       "    <tr>\n",
       "      <th>266</th>\n",
       "      <td>249.525123</td>\n",
       "      <td>2.0</td>\n",
       "    </tr>\n",
       "    <tr>\n",
       "      <th>267</th>\n",
       "      <td>249.525123</td>\n",
       "      <td>3.0</td>\n",
       "    </tr>\n",
       "    <tr>\n",
       "      <th>268</th>\n",
       "      <td>249.637137</td>\n",
       "      <td>2.0</td>\n",
       "    </tr>\n",
       "    <tr>\n",
       "      <th>269</th>\n",
       "      <td>249.637137</td>\n",
       "      <td>3.0</td>\n",
       "    </tr>\n",
       "    <tr>\n",
       "      <th>270</th>\n",
       "      <td>252.191808</td>\n",
       "      <td>2.0</td>\n",
       "    </tr>\n",
       "    <tr>\n",
       "      <th>271</th>\n",
       "      <td>252.191808</td>\n",
       "      <td>3.0</td>\n",
       "    </tr>\n",
       "    <tr>\n",
       "      <th>272</th>\n",
       "      <td>254.744810</td>\n",
       "      <td>2.0</td>\n",
       "    </tr>\n",
       "    <tr>\n",
       "      <th>273</th>\n",
       "      <td>254.744810</td>\n",
       "      <td>3.0</td>\n",
       "    </tr>\n",
       "    <tr>\n",
       "      <th>274</th>\n",
       "      <td>256.589183</td>\n",
       "      <td>2.0</td>\n",
       "    </tr>\n",
       "  </tbody>\n",
       "</table>\n",
       "</div>"
      ],
      "text/plain": [
       "             ts  occ\n",
       "250  235.581010  2.0\n",
       "251  235.581010  3.0\n",
       "252  236.910991  2.0\n",
       "253  236.910991  3.0\n",
       "254  239.495481  2.0\n",
       "255  239.495481  3.0\n",
       "256  240.558372  2.0\n",
       "257  240.558372  3.0\n",
       "258  242.001736  2.0\n",
       "259  242.001736  3.0\n",
       "260  244.949651  2.0\n",
       "261  244.949651  3.0\n",
       "262  245.263992  2.0\n",
       "263  245.263992  3.0\n",
       "264  246.539061  2.0\n",
       "265  246.539061  3.0\n",
       "266  249.525123  2.0\n",
       "267  249.525123  3.0\n",
       "268  249.637137  2.0\n",
       "269  249.637137  3.0\n",
       "270  252.191808  2.0\n",
       "271  252.191808  3.0\n",
       "272  254.744810  2.0\n",
       "273  254.744810  3.0\n",
       "274  256.589183  2.0"
      ]
     },
     "execution_count": 191,
     "metadata": {},
     "output_type": "execute_result"
    }
   ],
   "source": [
    "insp1_occupancy_df.iloc[250:275,]"
   ]
  },
  {
   "cell_type": "code",
   "execution_count": null,
   "metadata": {},
   "outputs": [],
   "source": []
  }
 ],
 "metadata": {
  "kernelspec": {
   "display_name": "Python 3",
   "language": "python",
   "name": "python3"
  },
  "language_info": {
   "codemirror_mode": {
    "name": "ipython",
    "version": 3
   },
   "file_extension": ".py",
   "mimetype": "text/x-python",
   "name": "python",
   "nbconvert_exporter": "python",
   "pygments_lexer": "ipython3",
   "version": "3.7.10"
  },
  "toc-autonumbering": true
 },
 "nbformat": 4,
 "nbformat_minor": 4
}
