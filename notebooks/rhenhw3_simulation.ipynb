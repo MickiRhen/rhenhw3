{
 "cells": [
  {
   "cell_type": "markdown",
   "metadata": {
    "Collapsed": "false"
   },
   "source": [
    "# Homework 3 - Option 1 - Simulation\n",
    "\n",
    "In this homework assignment I will use SimPy to do discrete event simulation.\n",
    "\n",
    "The scenario I have chosen is that of a border crossing where cars can must first stop at a booth to speak to a border control officer (primary inspection). \n",
    "\n",
    "Some percentage of cars will be asked to pull aside for a random (or not so random) secondary inspection. \n",
    "\n",
    "In our scenario all cars eventually make it through customs and move along on their merry way.\n",
    "\n",
    "Let's have some fun with SimPy!..."
   ]
  },
  {
   "cell_type": "markdown",
   "metadata": {
    "Collapsed": "false"
   },
   "source": [
    "## Preliminaries"
   ]
  },
  {
   "cell_type": "code",
   "execution_count": 5,
   "metadata": {
    "Collapsed": "false"
   },
   "outputs": [
    {
     "name": "stdout",
     "output_type": "stream",
     "text": [
      "The autoreload extension is already loaded. To reload it, use:\n",
      "  %reload_ext autoreload\n"
     ]
    }
   ],
   "source": [
    "# To auto-reload modules in jupyter notebook (so that changes in files *.py doesn't require manual reloading):\n",
    "# https://stackoverflow.com/questions/5364050/reloading-submodules-in-ipython\n",
    "%load_ext autoreload\n",
    "%autoreload 2"
   ]
  },
  {
   "cell_type": "markdown",
   "metadata": {
    "Collapsed": "false"
   },
   "source": [
    "Import libraries likely needed for the task"
   ]
  },
  {
   "cell_type": "code",
   "execution_count": 6,
   "metadata": {
    "Collapsed": "false"
   },
   "outputs": [],
   "source": [
    "import math\n",
    "import numpy as np\n",
    "import pandas as pd\n",
    "from scipy import optimize\n",
    "import matplotlib.pyplot as plt\n",
    "import seaborn as sns\n",
    "from numpy.random import default_rng\n",
    "from IPython.display import Image\n",
    "import simpy\n"
   ]
  },
  {
   "cell_type": "markdown",
   "metadata": {
    "Collapsed": "false"
   },
   "source": [
    "## Using discrete event simulation to model traffic at a border crossing\n",
    "\n",
    "Ultimately, our goal in this module is to develop a DES model of a simple border crossing scenario consisting of the following process steps:\n",
    "\n",
    "```\n",
    "Arrival --> Primary Inspection --> Documentation Scan--> Declaration of Goods (if needed) --> Secondary Inspection (if needed) -->  Exit\n",
    "```\n",
    "\n",
    "Conceptually, our model has the following components:\n",
    "\n",
    "* The entities are vehicles.\n",
    "* Entities are created by some sort of arrival process.\n",
    "* Each stage of the process has some number of resources associated with it. These resources are the border control officers that man the Inspection stations.\n",
    "* Entities flow through different stages of the border crossing process, and at each stage, they:\n",
    "    - request one unit of the appropriate type of officer resource and wait if one is not available,\n",
    "    - after obtaining an officer resource they delay for some amount of time for the process (e.g. questioning, scanning documentation, declaring purchases) to be completed,\n",
    "    - when the processing time has elapsed, the resource is released and the vehicle may move on to a Secondary Inspection\n",
    "* When all stages are complete, the vehicle exits the system.\n",
    "\n",
    "Our model should handle:\n",
    "\n",
    "* uncertainty in the processing times of the individual steps above,\n",
    "* uncertainty in vehicle arrival times\n",
    "* finite numbers of different types of resources (officers)\n",
    "* ability to estimate key process metrics such as vehicle wait times and total time at the border crossing as well as resource utilization."
   ]
  },
  {
   "cell_type": "markdown",
   "metadata": {
    "Collapsed": "false"
   },
   "source": [
    "# The Model"
   ]
  },
  {
   "cell_type": "markdown",
   "metadata": {
    "tags": []
   },
   "source": [
    "## Model 1 - Vehicle arrival generator only\n",
    "\n",
    "We will start with a simple model that generates vehicle arrivals on a regular basis, then the vehicles  -->  Exit Border Crossing"
   ]
  },
  {
   "cell_type": "code",
   "execution_count": 7,
   "metadata": {},
   "outputs": [],
   "source": [
    "def vehicle_arrivals(env, interarrival_time=2.0):\n",
    "    \"\"\"Generate vehicles according to a fixed time arrival process\"\"\"\n",
    "\n",
    "    # Create a counter to keep track of number of vehicles generated and to serve as unique vehicle id\n",
    "    vehicle = 0\n",
    "\n",
    "    # Infinite loop for generating vehicles\n",
    "    while True:\n",
    "\n",
    "        # Generate next interarrival time (simple for now - this will be revised later)\n",
    "        iat = interarrival_time\n",
    "        \n",
    "        # This process will now yield to a 'timeout' event. This process will resume after iat time units.\n",
    "        yield env.timeout(iat)\n",
    "\n",
    "        # New vehicle generated = update counter of vehicles\n",
    "        vehicle += 1\n",
    "        \n",
    "        print(f\"Vehicle {vehicle} created at time {env.now}\")"
   ]
  },
  {
   "cell_type": "code",
   "execution_count": 8,
   "metadata": {},
   "outputs": [
    {
     "name": "stdout",
     "output_type": "stream",
     "text": [
      "Vehicle 1 created at time 2.0\n",
      "Vehicle 2 created at time 4.0\n",
      "Vehicle 3 created at time 6.0\n",
      "Vehicle 4 created at time 8.0\n",
      "Vehicle 5 created at time 10.0\n",
      "Vehicle 6 created at time 12.0\n",
      "Vehicle 7 created at time 14.0\n",
      "Vehicle 8 created at time 16.0\n",
      "Vehicle 9 created at time 18.0\n",
      "Vehicle 10 created at time 20.0\n",
      "Vehicle 11 created at time 22.0\n",
      "Vehicle 12 created at time 24.0\n"
     ]
    }
   ],
   "source": [
    "# Initialize a simulation environment\n",
    "env1 = simpy.Environment()\n",
    "\n",
    "# Create a process generator and start it and add it to the env\n",
    "# env.process() starts the vehicle_arrivals process and adds it to the environment\n",
    "runtime = 25\n",
    "interarrival_time = 2.0\n",
    "env1.process(vehicle_arrivals(env1, interarrival_time))\n",
    "\n",
    "# Run the simulation\n",
    "env1.run(until=runtime)"
   ]
  },
  {
   "cell_type": "markdown",
   "metadata": {},
   "source": [
    "As cars arriving on a regular schedule is very unrealistic, we will start to improve our model by modeling vehicle arrivals by a *Poisson arrival process*\n",
    "\n",
    "First we need to import the default random number generator and create a random generator variable. I'll use 2616 as the seed. This generator generates numbers uniformly between 0 and 1, which can be used to generate random variates from whatever distribution we choose. "
   ]
  },
  {
   "cell_type": "code",
   "execution_count": 10,
   "metadata": {},
   "outputs": [
    {
     "name": "stdout",
     "output_type": "stream",
     "text": [
      "0.13682387149554032\n"
     ]
    }
   ],
   "source": [
    "from numpy.random import default_rng\n",
    "rg = default_rng(seed=2616)\n",
    "print(rg.random())"
   ]
  },
  {
   "cell_type": "markdown",
   "metadata": {},
   "source": [
    "Now we'll use our random number generator to overlay the exponential pdf (probability density function) on our histogram of generated exponential random variates."
   ]
  },
  {
   "cell_type": "code",
   "execution_count": 13,
   "metadata": {},
   "outputs": [
    {
     "data": {
      "image/png": "[encoded data removed]",
      "text/plain": [
       "<Figure size 432x288 with 1 Axes>"
      ]
     },
     "metadata": {
      "needs_background": "light"
     },
     "output_type": "display_data"
    }
   ],
   "source": [
    "# Import exponential distribution function from scipy.stats\n",
    "from scipy.stats import expon\n",
    "\n",
    "# Set mean of this distribution to whatever we were using above for interarrival time\n",
    "mean_interarrival_time = interarrival_time\n",
    "\n",
    "# Create a random variable object based on the exponential distribution with the given mean\n",
    "rv_expon = expon(scale=mean_interarrival_time)\n",
    "\n",
    "\n",
    "\n",
    "# Generate 1000 exponential random variates (Exponential function from numpy)\n",
    "iat_sample = rg.exponential(mean_interarrival_time, 10000)\n",
    "\n",
    "# Create a histogram of the random samples with exponential pdf overlaid\n",
    "plt.title(\"Interarrival time histogram\")\n",
    "plt.xlabel(\"Interarrival time\")\n",
    "plt.ylabel(\"Density\")\n",
    "plt.hist(iat_sample, density=True);\n",
    "\n",
    "# Create values for the x-axis using expon function from SciPy\n",
    "x_expon = np.linspace(rv_expon.ppf(0.0001),\n",
    "                rv_expon.ppf(0.999), 500)\n",
    "\n",
    "# Create values for the y-axis\n",
    "y_expon_pdf = rv_expon.pdf(x_expon)\n",
    "\n",
    "plt.plot(x_expon, y_expon_pdf,\n",
    "       'r-', lw=3, alpha=0.6, label='Exponential pdf');"
   ]
  },
  {
   "cell_type": "markdown",
   "metadata": {},
   "source": [
    "Now, we can modify our vehicle arrivals function to use Poisson arrivals instead of equally-spaced deterministic arrivals."
   ]
  },
  {
   "cell_type": "code",
   "execution_count": 14,
   "metadata": {},
   "outputs": [],
   "source": [
    "def vehicle_arrivals_random_1(env, mean_interarrival_time=2.0, rg=default_rng(0)):\n",
    "    \"\"\"Generate vehicles according to a Poisson arrival process\"\"\"\n",
    "\n",
    "    # Create a counter to keep track of the number of vehicles generated and to serve as unique vehicle id\n",
    "    vehicle = 0\n",
    "\n",
    "    # Infinite loop for generating vehicles\n",
    "    while True:\n",
    "\n",
    "        # Generate next interarrival time from exponential distribution\n",
    "        iat = rg.exponential(mean_interarrival_time)\n",
    "        \n",
    "        # This process will yield to a 'timeout' event. This process will resume after iat time units.\n",
    "        yield env.timeout(iat)\n",
    "\n",
    "        # Update counter of vehicles\n",
    "        vehicle += 1\n",
    "        \n",
    "        print(f\"Vehicle {vehicle} created at time {env.now}\")"
   ]
  },
  {
   "cell_type": "markdown",
   "metadata": {
    "tags": []
   },
   "source": [
    "Now we can run this new model with random arrivals..."
   ]
  },
  {
   "cell_type": "code",
   "execution_count": 17,
   "metadata": {},
   "outputs": [
    {
     "name": "stdout",
     "output_type": "stream",
     "text": [
      "Vehicle 1 created at time 2.4643412877955218\n",
      "Vehicle 2 created at time 8.320679914421646\n",
      "Vehicle 3 created at time 8.628057431597927\n",
      "Vehicle 4 created at time 11.559667261969569\n",
      "Vehicle 5 created at time 13.808142320108066\n",
      "Vehicle 6 created at time 17.604243156767176\n",
      "Vehicle 7 created at time 18.802227105059586\n",
      "Vehicle 8 created at time 19.73959643369937\n",
      "Vehicle 9 created at time 21.373811066654508\n",
      "Vehicle 10 created at time 21.90274962336238\n",
      "Vehicle 11 created at time 23.394394601372817\n",
      "Vehicle 12 created at time 23.606518713330075\n"
     ]
    }
   ],
   "source": [
    "# Initialize a new simulation environment\n",
    "env2 = simpy.Environment()\n",
    "\n",
    "# Create a process generator and start it and add it to the env\n",
    "# env.process() starts and adds it to env\n",
    "runtime = 25\n",
    "interarrival_time = 2.0\n",
    "env2.process(vehicle_arrivals_random_1(env2, interarrival_time))\n",
    "\n",
    "# Run the simulation\n",
    "env2.run(until=runtime)"
   ]
  },
  {
   "cell_type": "markdown",
   "metadata": {},
   "source": [
    "## Model 2: Simplified border crossing with one resource"
   ]
  },
  {
   "cell_type": "code",
   "execution_count": null,
   "metadata": {},
   "outputs": [],
   "source": []
  }
 ],
 "metadata": {
  "kernelspec": {
   "display_name": "Python 3",
   "language": "python",
   "name": "python3"
  },
  "language_info": {
   "codemirror_mode": {
    "name": "ipython",
    "version": 3
   },
   "file_extension": ".py",
   "mimetype": "text/x-python",
   "name": "python",
   "nbconvert_exporter": "python",
   "pygments_lexer": "ipython3",
   "version": "3.7.10"
  },
  "toc-autonumbering": true
 },
 "nbformat": 4,
 "nbformat_minor": 4
}
